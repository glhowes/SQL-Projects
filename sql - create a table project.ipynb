{
 "cells": [
  {
   "cell_type": "markdown",
   "metadata": {},
   "source": [
    "/*Create a table named friends with three columns:\n",
    "id that stores INTEGER\n",
    "name that stores TEXT\n",
    "birthday that stores DATE*/"
   ]
  },
  {
   "cell_type": "code",
   "execution_count": null,
   "metadata": {},
   "outputs": [],
   "source": [
    "CREATE TABLE friends (\n",
    "  id INTEGER,\n",
    "  name TEXT,\n",
    "  birthday DATE\n",
    ");"
   ]
  },
  {
   "cell_type": "markdown",
   "metadata": {},
   "source": [
    "/*Beneath your current code, add Ororo Munroe to friends.\n",
    "Her birthday is May 30th, 1940.*/"
   ]
  },
  {
   "cell_type": "code",
   "execution_count": null,
   "metadata": {},
   "outputs": [],
   "source": [
    "INSERT INTO friends (id, name, birthday) VALUES (1, \"Ororo Munroe\", \"May 30th, 1940\");"
   ]
  },
  {
   "cell_type": "markdown",
   "metadata": {},
   "source": [
    "/*Let’s make sure that Ororo has been added to the database. Check for two things:\n",
    "Is friends table created?\n",
    "Is Ororo Munroe added to it?*/"
   ]
  },
  {
   "cell_type": "code",
   "execution_count": null,
   "metadata": {},
   "outputs": [],
   "source": [
    "SELECT * FROM friends;"
   ]
  },
  {
   "cell_type": "markdown",
   "metadata": {},
   "source": [
    "/*Add two of your friends to the table.\n",
    "Insert an id, name, and birthday for each of them.*/"
   ]
  },
  {
   "cell_type": "code",
   "execution_count": null,
   "metadata": {},
   "outputs": [],
   "source": [
    "INSERT INTO friends (id, name, birthday) VALUES (2, \"Ed Jackson\", \"July 13th, 1990\"), (3, \"Chey Bae\", \"December 8th, 1990\");"
   ]
  },
  {
   "cell_type": "markdown",
   "metadata": {},
   "source": [
    "/*Ororo Munroe just realized that she can control the weather and decided to change her name. Her new name is “Storm”.\n",
    "Update her record in friends.*/"
   ]
  },
  {
   "cell_type": "code",
   "execution_count": null,
   "metadata": {},
   "outputs": [],
   "source": [
    "UPDATE friends SET name = \"Storm\" WHERE id = 1;"
   ]
  },
  {
   "cell_type": "markdown",
   "metadata": {},
   "source": [
    "/*Add a new column named email.*/"
   ]
  },
  {
   "cell_type": "code",
   "execution_count": null,
   "metadata": {},
   "outputs": [],
   "source": [
    "ALTER TABLE friends ADD email TEXT;"
   ]
  },
  {
   "cell_type": "markdown",
   "metadata": {},
   "source": [
    "/*Update the email address for everyone in your table.\n",
    "Storm’s email is storm@codecademy.com.*/"
   ]
  },
  {
   "cell_type": "code",
   "execution_count": null,
   "metadata": {},
   "outputs": [],
   "source": [
    "UPDATE friends SET email = \"storm@codecademy.com\" WHERE id = 1;\n",
    "UPDATE friends SET email = \"ed@codecademy.com\" WHERE id = 2;\n",
    "UPDATE friends SET email = \"chey@codecademy.com\" WHERE id = 3;"
   ]
  },
  {
   "cell_type": "markdown",
   "metadata": {},
   "source": [
    "/*Wait, Storm is fictional…\n",
    "Remove her from friends.*/"
   ]
  },
  {
   "cell_type": "code",
   "execution_count": null,
   "metadata": {},
   "outputs": [],
   "source": [
    "DELETE FROM friends WHERE name = \"Storm\";"
   ]
  },
  {
   "cell_type": "markdown",
   "metadata": {},
   "source": [
    "/*Let’s take a look at the result one last time:*/"
   ]
  },
  {
   "cell_type": "code",
   "execution_count": null,
   "metadata": {},
   "outputs": [],
   "source": [
    "SELECT * FROM friends"
   ]
  }
 ],
 "metadata": {
  "language_info": {
   "name": "python"
  },
  "orig_nbformat": 4
 },
 "nbformat": 4,
 "nbformat_minor": 2
}
