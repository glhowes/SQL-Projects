{
 "cells": [
  {
   "cell_type": "markdown",
   "metadata": {},
   "source": [
    "/*Let’s examine the three tables.*/"
   ]
  },
  {
   "cell_type": "code",
   "execution_count": null,
   "metadata": {},
   "outputs": [],
   "source": [
    "SELECT * FROM trips;\n",
    "SELECT * FROM riders;\n",
    "SELECT * FROM cars;"
   ]
  },
  {
   "cell_type": "markdown",
   "metadata": {},
   "source": [
    "/*What’s the primary key of trips?\n",
    "What’s the primary key of riders?\n",
    "What’s the primary key of cars?*/"
   ]
  },
  {
   "cell_type": "code",
   "execution_count": null,
   "metadata": {},
   "outputs": [],
   "source": [
    "SELECT id FROM trips LIMIT 1;\n",
    "SELECT id FROM riders LIMIT 1;\n",
    "SELECT id FROM cars LIMIT 1;"
   ]
  },
  {
   "cell_type": "markdown",
   "metadata": {},
   "source": [
    "/*Try out a simple cross join between riders and cars.*/"
   ]
  },
  {
   "cell_type": "code",
   "execution_count": null,
   "metadata": {},
   "outputs": [],
   "source": [
    "SELECT * FROM riders CROSS JOIN cars;"
   ]
  },
  {
   "cell_type": "markdown",
   "metadata": {},
   "source": [
    "/*Suppose we want to create a Trip Log with the trips and its users.\n",
    "Find the columns to join between trips and riders and combine the two tables using a LEFT JOIN.\n",
    "Let trips be the left table.*/"
   ]
  },
  {
   "cell_type": "code",
   "execution_count": null,
   "metadata": {},
   "outputs": [],
   "source": [
    "SELECT * FROM trips LEFT JOIN riders ON trips.rider_id = riders.id;"
   ]
  },
  {
   "cell_type": "markdown",
   "metadata": {},
   "source": [
    "/*Suppose we want to create a link between the trips and the cars used during those trips. Find the columns to join on and combine the trips and cars table using an INNER JOIN.*/"
   ]
  },
  {
   "cell_type": "code",
   "execution_count": null,
   "metadata": {},
   "outputs": [],
   "source": [
    "SELECT * FROM trips JOIN cars ON trips.car_id = cars.id;"
   ]
  },
  {
   "cell_type": "markdown",
   "metadata": {},
   "source": [
    "/*The new riders data are in! There are three new users this month.\n",
    "Stack the riders table on top of the new table named riders2.*/"
   ]
  },
  {
   "cell_type": "code",
   "execution_count": null,
   "metadata": {},
   "outputs": [],
   "source": [
    "SELECT * FROM riders UNION SELECT * FROM riders2;"
   ]
  },
  {
   "cell_type": "markdown",
   "metadata": {},
   "source": [
    "/*What is the average cost for a trip?*/"
   ]
  },
  {
   "cell_type": "code",
   "execution_count": null,
   "metadata": {},
   "outputs": [],
   "source": [
    "SELECT AVG(cost) FROM trips;"
   ]
  },
  {
   "cell_type": "markdown",
   "metadata": {},
   "source": [
    "/*Lyft is looking to do an email campaign for all the irregular users.\n",
    "Find all the riders who have used Lyft less than 500 times!*/"
   ]
  },
  {
   "cell_type": "code",
   "execution_count": null,
   "metadata": {},
   "outputs": [],
   "source": [
    "SELECT * FROM riders WHERE total_trips < 500 UNION SELECT * FROM riders2 WHERE total_trips < 500;"
   ]
  },
  {
   "cell_type": "markdown",
   "metadata": {},
   "source": [
    "/*Calculate the number of cars that are active.*/"
   ]
  },
  {
   "cell_type": "code",
   "execution_count": null,
   "metadata": {},
   "outputs": [],
   "source": [
    "SELECT COUNT(*) FROM cars WHERE status = 'active';"
   ]
  },
  {
   "cell_type": "markdown",
   "metadata": {},
   "source": [
    "/*It’s safety recall time for cars that have been on the road for a while.\n",
    "Write a query that finds the two cars that have the highest trips_completed.*/"
   ]
  },
  {
   "cell_type": "code",
   "execution_count": null,
   "metadata": {},
   "outputs": [],
   "source": [
    "SELECT * FROM cars s ORDER BY trips_completed DESC LIMIT 2;"
   ]
  }
 ],
 "metadata": {
  "language_info": {
   "name": "python"
  },
  "orig_nbformat": 4
 },
 "nbformat": 4,
 "nbformat_minor": 2
}
