{
 "cells": [
  {
   "cell_type": "markdown",
   "metadata": {},
   "source": [
    "/*Start by getting a feel for the hacker_news table!*/"
   ]
  },
  {
   "cell_type": "code",
   "execution_count": null,
   "metadata": {},
   "outputs": [],
   "source": [
    "SELECT * FROM hacker_news LIMIT 10;"
   ]
  },
  {
   "cell_type": "markdown",
   "metadata": {},
   "source": [
    "/*Let’s find the most popular Hacker News stories:*/"
   ]
  },
  {
   "cell_type": "code",
   "execution_count": null,
   "metadata": {},
   "outputs": [],
   "source": [
    "SELECT title, score FROM hacker_news ORDER BY score DESC LIMIT 5;"
   ]
  },
  {
   "cell_type": "markdown",
   "metadata": {},
   "source": [
    "/*Recent studies have found that online forums tend to be dominated by a small percentage of their users (1-9-90 Rule).\n",
    "Is this true of Hacker News?\n",
    "Is a small percentage of Hacker News submitters taking the majority of the points?\n",
    "First, find the total score of all the stories.*/"
   ]
  },
  {
   "cell_type": "code",
   "execution_count": null,
   "metadata": {},
   "outputs": [],
   "source": [
    "SELECT SUM(score) FROM hacker_news;"
   ]
  },
  {
   "cell_type": "markdown",
   "metadata": {},
   "source": [
    "/*Next, we need to pinpoint the users who have accumulated a lot of points across their stories.\n",
    "Find the individual users who have gotten combined scores of more than 200, and their combined scores.*/"
   ]
  },
  {
   "cell_type": "code",
   "execution_count": null,
   "metadata": {},
   "outputs": [],
   "source": [
    "SELECT user, SUM(score) FROM hacker_news GROUP BY user HAVING SUM(score) > 200 ORDER BY 2 DESC;"
   ]
  },
  {
   "cell_type": "markdown",
   "metadata": {},
   "source": [
    "/*Then, we want to add these users’ scores together and divide by the total to get the percentage.\n",
    "Add their scores together and divide it by the total sum.\n",
    "So, is Hacker News dominated by these users?*/"
   ]
  },
  {
   "cell_type": "code",
   "execution_count": null,
   "metadata": {},
   "outputs": [],
   "source": [
    "SELECT (517 + 309 + 304 + 282) / 6366.0;"
   ]
  },
  {
   "cell_type": "markdown",
   "metadata": {},
   "source": [
    "/*Oh no! While we are looking at the power users, some users are rickrolling — tricking readers into clicking on a link to a funny video and claiming that it links to information about coding.\n",
    "The url of the video is:\n",
    "https://www.youtube.com/watch?v=dQw4w9WgXcQ\n",
    "How many times has each offending user posted this link?*/"
   ]
  },
  {
   "cell_type": "code",
   "execution_count": null,
   "metadata": {},
   "outputs": [],
   "source": [
    "SELECT user, COUNT(*) FROM hacker_news WHERE url LIKE '%watch?v=dQw4w9WgXcQ%' GROUP BY 1 ORDER BY 2 DESC;"
   ]
  },
  {
   "cell_type": "markdown",
   "metadata": {},
   "source": [
    "/*Hacker News stories are essentially links that take users to other websites. Which of these sites feed Hacker News the most:\n",
    "GitHub, Medium, or New York Times? \n",
    "First, we want to categorize each story based on their source.*/"
   ]
  },
  {
   "cell_type": "code",
   "execution_count": null,
   "metadata": {},
   "outputs": [],
   "source": [
    "SELECT \n",
    "  CASE\n",
    "    WHEN url LIKE '%github.com%' THEN 'GitHub'\n",
    "    WHEN url LIKE '%medium.com%' THEN 'Medium'\n",
    "    WHEN url LIKE '%nytimes.com%' THEN 'New York Times'\n",
    "    ELSE 'Other'\n",
    "  END AS 'Source'\n",
    "FROM hacker_news LIMIT 5;"
   ]
  },
  {
   "cell_type": "markdown",
   "metadata": {},
   "source": [
    "/*Next, build on the previous query:\n",
    "Add a column for the number of stories from each URL using COUNT(). Also, GROUP BY the CASE statement.*/"
   ]
  },
  {
   "cell_type": "code",
   "execution_count": null,
   "metadata": {},
   "outputs": [],
   "source": [
    "SELECT\n",
    "  CASE\n",
    "    WHEN url LIKE '%github.com%' THEN 'GitHub'\n",
    "    WHEN url LIKE '%medium.com%' THEN 'Medium'\n",
    "    WHEN url LIKE '%nytimes.com%' THEN 'New York Times'\n",
    "    ELSE 'Other'\n",
    "  END AS 'Source', \n",
    "COUNT(*) FROM hacker_news GROUP BY 1;"
   ]
  },
  {
   "cell_type": "markdown",
   "metadata": {},
   "source": [
    "/*Every submitter wants their story to get a high score so that the story makes it to the front page, but…\n",
    "What’s the best time of the day to post a story on Hacker News?\n",
    "Before we get started, let’s run this query and take a look at the timestamp column.*/"
   ]
  },
  {
   "cell_type": "code",
   "execution_count": null,
   "metadata": {},
   "outputs": [],
   "source": [
    "SELECT timestamp FROM hacker_news LIMIT 10;"
   ]
  },
  {
   "cell_type": "markdown",
   "metadata": {},
   "source": [
    "/*Use strftime() function to isolate the hour*/"
   ]
  },
  {
   "cell_type": "code",
   "execution_count": null,
   "metadata": {},
   "outputs": [],
   "source": [
    "SELECT timestamp, strftime('%H', timestamp) FROM hacker_news GROUP BY 1 LIMIT 20;"
   ]
  },
  {
   "cell_type": "markdown",
   "metadata": {},
   "source": [
    "/*Write a query that returns three columns:\n",
    "The hours of the timestamp\n",
    "The average score for each hour\n",
    "The count of stories for each hour*/"
   ]
  },
  {
   "cell_type": "code",
   "execution_count": null,
   "metadata": {},
   "outputs": [],
   "source": [
    "SELECT strftime('%H', timestamp), AVG(score), COUNT(*) FROM hacker_news GROUP BY 1 ORDER BY 2 DESC;"
   ]
  },
  {
   "cell_type": "markdown",
   "metadata": {},
   "source": [
    "/*Let’s edit a few things in the previous query:\n",
    "Round the average scores (ROUND()).\n",
    "Rename the columns to make it more readable (AS).\n",
    "Add a WHERE clause to filter out the NULL values in timestamp.\n",
    "What are the best hours to post a story on Hacker News?*/"
   ]
  },
  {
   "cell_type": "code",
   "execution_count": null,
   "metadata": {},
   "outputs": [],
   "source": [
    "SELECT strftime('%H', timestamp) AS 'Hour', ROUND(AVG(score), 2) AS 'Average Score', COUNT(*) AS 'Number of Stories' FROM hacker_news WHERE timestamp IS NOT NULL GROUP BY 1 ORDER BY 2 DESC;"
   ]
  }
 ],
 "metadata": {
  "language_info": {
   "name": "python"
  },
  "orig_nbformat": 4
 },
 "nbformat": 4,
 "nbformat_minor": 2
}
