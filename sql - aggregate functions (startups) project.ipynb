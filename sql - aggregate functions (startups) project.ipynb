{
 "cells": [
  {
   "cell_type": "markdown",
   "metadata": {},
   "source": [
    "/*Getting started, take a look at the startups table:*/"
   ]
  },
  {
   "cell_type": "code",
   "execution_count": null,
   "metadata": {},
   "outputs": [],
   "source": [
    "SELECT * FROM startups LIMIT 10;"
   ]
  },
  {
   "cell_type": "markdown",
   "metadata": {},
   "source": [
    "/*Calculate the total number of companies in the table.*/"
   ]
  },
  {
   "cell_type": "code",
   "execution_count": null,
   "metadata": {},
   "outputs": [],
   "source": [
    "SELECT COUNT(name) FROM startups;"
   ]
  },
  {
   "cell_type": "markdown",
   "metadata": {},
   "source": [
    "/*We want to know the total value of all companies in this table.*/"
   ]
  },
  {
   "cell_type": "code",
   "execution_count": null,
   "metadata": {},
   "outputs": [],
   "source": [
    "SELECT SUM(valuation) FROM startups;"
   ]
  },
  {
   "cell_type": "markdown",
   "metadata": {},
   "source": [
    "/*What is the highest amount raised by a startup?*/"
   ]
  },
  {
   "cell_type": "code",
   "execution_count": null,
   "metadata": {},
   "outputs": [],
   "source": [
    "SELECT MAX(raised) FROM startups;"
   ]
  },
  {
   "cell_type": "markdown",
   "metadata": {},
   "source": [
    "/*Edit the query so that it returns the maximum amount of money raised, during ‘Seed’ stage.*/"
   ]
  },
  {
   "cell_type": "code",
   "execution_count": null,
   "metadata": {},
   "outputs": [],
   "source": [
    "SELECT MAX(raised) FROM startups WHERE stage = 'Seed';"
   ]
  },
  {
   "cell_type": "markdown",
   "metadata": {},
   "source": [
    "/*In what year was the oldest company on the list founded?*/"
   ]
  },
  {
   "cell_type": "code",
   "execution_count": null,
   "metadata": {},
   "outputs": [],
   "source": [
    "SELECT MIN(founded) FROM startups;"
   ]
  },
  {
   "cell_type": "markdown",
   "metadata": {},
   "source": [
    "/*Return the average valuation.*/"
   ]
  },
  {
   "cell_type": "code",
   "execution_count": null,
   "metadata": {},
   "outputs": [],
   "source": [
    "SELECT AVG(valuation) FROM startups;"
   ]
  },
  {
   "cell_type": "markdown",
   "metadata": {},
   "source": [
    "/*Return the average valuation, in each category.*/"
   ]
  },
  {
   "cell_type": "code",
   "execution_count": null,
   "metadata": {},
   "outputs": [],
   "source": [
    "SELECT category, AVG(valuation) FROM startups GROUP BY category;"
   ]
  },
  {
   "cell_type": "markdown",
   "metadata": {},
   "source": [
    "/*Return the average valuation, in each category. Round the averages to two decimal places.*/"
   ]
  },
  {
   "cell_type": "code",
   "execution_count": null,
   "metadata": {},
   "outputs": [],
   "source": [
    "SELECT category, ROUND(AVG(valuation), 2) FROM startups GROUP BY category;"
   ]
  },
  {
   "cell_type": "markdown",
   "metadata": {},
   "source": [
    "/*Return the average valuation, in each category. Round the averages to two decimal places. Lastly, order the list from highest averages to lowest.*/"
   ]
  },
  {
   "cell_type": "code",
   "execution_count": null,
   "metadata": {},
   "outputs": [],
   "source": [
    "SELECT category, ROUND(AVG(valuation), 2) FROM startups GROUP BY category ORDER BY 2 DESC;"
   ]
  },
  {
   "cell_type": "markdown",
   "metadata": {},
   "source": [
    "/*First, return the name of each category with the total number of companies that belong to it.*/"
   ]
  },
  {
   "cell_type": "code",
   "execution_count": null,
   "metadata": {},
   "outputs": [],
   "source": [
    "SELECT category, COUNT(name) FROM startups GROUP By category;"
   ]
  },
  {
   "cell_type": "markdown",
   "metadata": {},
   "source": [
    "/*Next, filter the result to only include categories that have more than three companies in them. What are the most competitive markets?*/"
   ]
  },
  {
   "cell_type": "code",
   "execution_count": null,
   "metadata": {},
   "outputs": [],
   "source": [
    "SELECT category, COUNT(name) FROM startups GROUP By category HAVING COUNT(name) > 3;"
   ]
  },
  {
   "cell_type": "markdown",
   "metadata": {},
   "source": [
    "/*What is the average size of a startup in each location?*/"
   ]
  },
  {
   "cell_type": "code",
   "execution_count": null,
   "metadata": {},
   "outputs": [],
   "source": [
    "SELECT location, AVG(employees) FROM startups GROUP BY 1;"
   ]
  },
  {
   "cell_type": "markdown",
   "metadata": {},
   "source": [
    "/*What is the average size of a startup in each location, with average sizes above 500?*/"
   ]
  },
  {
   "cell_type": "code",
   "execution_count": null,
   "metadata": {},
   "outputs": [],
   "source": [
    "SELECT location, AVG(employees) FROM startups GROUP BY 1 HAVING AVG(employees) > 500;"
   ]
  }
 ],
 "metadata": {
  "language_info": {
   "name": "python"
  },
  "orig_nbformat": 4
 },
 "nbformat": 4,
 "nbformat_minor": 2
}
